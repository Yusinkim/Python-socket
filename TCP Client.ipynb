{
 "cells": [
  {
   "cell_type": "code",
   "execution_count": 1,
   "metadata": {},
   "outputs": [],
   "source": [
    "def run_client():\n",
    "    import socket\n",
    "    sock = socket.socket(socket.AF_INET, socket.SOCK_STREAM)\n",
    "    ip = input('ip 입력 : ')\n",
    "    port = int(input('포트 입력 : '))\n",
    "    sock.connect((ip,port))\n",
    "    data = sock.recv(1024).decode()\n",
    "    do = 1\n",
    "    if data:\n",
    "        print('서버와 연결 성공! 당신은 Client[{}] 입니다'.format(data))\n",
    "    else:\n",
    "        print('서버와 연결 실패')\n",
    "        do = 0\n",
    "    while do:\n",
    "        send_msg = input('send msg : ')\n",
    "        if not send_msg:\n",
    "            break\n",
    "        sock.send(send_msg.encode())\n",
    "        recv_msg = sock.recv(1024).decode()\n",
    "        if not recv_msg:\n",
    "            print('Server stopped communicating')\n",
    "            sock.close()\n",
    "            break\n",
    "        print('Server :',recv_msg)"
   ]
  },
  {
   "cell_type": "code",
   "execution_count": null,
   "metadata": {},
   "outputs": [
    {
     "name": "stdout",
     "output_type": "stream",
     "text": [
      "ip 입력 : 203.255.56.63\n",
      "포트 입력 : 1234\n",
      "서버와 연결 성공! 당신은 Client[1] 입니다\n",
      "send msg : Hi\n",
      "Server : Hi\n"
     ]
    }
   ],
   "source": [
    "run_client()"
   ]
  }
 ],
 "metadata": {
  "kernelspec": {
   "display_name": "Python 3",
   "language": "python",
   "name": "python3"
  },
  "language_info": {
   "codemirror_mode": {
    "name": "ipython",
    "version": 3
   },
   "file_extension": ".py",
   "mimetype": "text/x-python",
   "name": "python",
   "nbconvert_exporter": "python",
   "pygments_lexer": "ipython3",
   "version": "3.7.0"
  }
 },
 "nbformat": 4,
 "nbformat_minor": 2
}
