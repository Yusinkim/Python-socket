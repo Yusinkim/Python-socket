{
 "cells": [
  {
   "cell_type": "code",
   "execution_count": 1,
   "metadata": {},
   "outputs": [],
   "source": [
    "def run_server():\n",
    "    import socket\n",
    "    import threading\n",
    "    sock = socket.socket(socket.AF_INET, socket.SOCK_STREAM)\n",
    "    port = int(input('포트 입력 : '))\n",
    "    sock.bind(('',port))\n",
    "    def thread(num):\n",
    "        sock.listen(1)\n",
    "        client, addr = sock.accept()\n",
    "        t = threading.Thread(target=thread, args=(num+1,))\n",
    "        t.start()\n",
    "    \n",
    "        print('{} 과 연결'.format(addr))\n",
    "        client.send(str(num).encode())\n",
    "        do = 1\n",
    "        while do:\n",
    "            recv_msg = client.recv(1024).decode()\n",
    "            if not recv_msg:\n",
    "                print('Client[{}]'.format(num), 'stopped communicating')\n",
    "                do = 0\n",
    "                break\n",
    "                sock.close()\n",
    "            print('Client[{}] :'.format(num), recv_msg)\n",
    "            client.send(recv_msg.encode())\n",
    "    thread(1)"
   ]
  },
  {
   "cell_type": "code",
   "execution_count": null,
   "metadata": {},
   "outputs": [
    {
     "name": "stdout",
     "output_type": "stream",
     "text": [
      "포트 입력 : 1234\n",
      "('203.255.56.63', 49204) 과 연결\n",
      "Client[1] : Hi\n"
     ]
    }
   ],
   "source": [
    "run_server()"
   ]
  }
 ],
 "metadata": {
  "kernelspec": {
   "display_name": "Python 3",
   "language": "python",
   "name": "python3"
  },
  "language_info": {
   "codemirror_mode": {
    "name": "ipython",
    "version": 3
   },
   "file_extension": ".py",
   "mimetype": "text/x-python",
   "name": "python",
   "nbconvert_exporter": "python",
   "pygments_lexer": "ipython3",
   "version": "3.7.0"
  }
 },
 "nbformat": 4,
 "nbformat_minor": 2
}
